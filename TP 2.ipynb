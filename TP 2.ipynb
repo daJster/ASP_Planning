{
 "cells": [
  {
   "cell_type": "code",
   "execution_count": 2,
   "metadata": {},
   "outputs": [
    {
     "name": "stdout",
     "output_type": "stream",
     "text": [
      "Created `%%clingo` as an alias for `%%script clingo --no-raise-error`.\n"
     ]
    }
   ],
   "source": [
    "%alias_magic clingo script -p \"clingo --no-raise-error\""
   ]
  },
  {
   "cell_type": "markdown",
   "metadata": {},
   "source": [
    "Determine the stable models(s) of each program."
   ]
  },
  {
   "cell_type": "markdown",
   "metadata": {},
   "source": [
    "# Normal logic programs"
   ]
  },
  {
   "cell_type": "markdown",
   "metadata": {},
   "source": [
    "#### **1**"
   ]
  },
  {
   "cell_type": "code",
   "execution_count": 3,
   "metadata": {},
   "outputs": [
    {
     "name": "stdout",
     "output_type": "stream",
     "text": [
      "b(1) b(2) a(1) a(2)\n",
      "SATISFIABLE\n"
     ]
    }
   ],
   "source": [
    "%%clingo -V0 0\n",
    "a(X) :- b(X).\n",
    "b(1). b(2)."
   ]
  },
  {
   "cell_type": "markdown",
   "metadata": {},
   "source": [
    "#### **2**"
   ]
  },
  {
   "cell_type": "code",
   "execution_count": 4,
   "metadata": {},
   "outputs": [
    {
     "name": "stdout",
     "output_type": "stream",
     "text": [
      "c(1) b(1) b(2) a(1)\n",
      "SATISFIABLE\n"
     ]
    }
   ],
   "source": [
    "%%clingo -V0 0\n",
    "a(X) :- b(X), c(X).\n",
    "b(1). b(2). \n",
    "c(1). "
   ]
  },
  {
   "cell_type": "markdown",
   "metadata": {},
   "source": [
    "#### **3**"
   ]
  },
  {
   "cell_type": "code",
   "execution_count": null,
   "metadata": {},
   "outputs": [],
   "source": [
    "%%clingo -V0 0\n",
    "a(X) :- b(X,Y), c(Y).\n",
    "b(1,5). b(2,10).\n",
    "c(10). c(5)."
   ]
  },
  {
   "cell_type": "markdown",
   "metadata": {},
   "source": [
    "#### **4**"
   ]
  },
  {
   "cell_type": "code",
   "execution_count": null,
   "metadata": {},
   "outputs": [],
   "source": [
    "%%clingo -V0 0\n",
    "a(X) :- b(X), Y=X+1, not b(Y).\n",
    "b(1). b(2)."
   ]
  },
  {
   "cell_type": "markdown",
   "metadata": {},
   "source": [
    "#### **5**"
   ]
  },
  {
   "cell_type": "code",
   "execution_count": null,
   "metadata": {},
   "outputs": [],
   "source": [
    "%%clingo -V0 0\n",
    "a(X) :- b(X), not c(X).\n",
    "b(1). b(2). c(1).\n",
    "b(3). c(2)."
   ]
  },
  {
   "cell_type": "markdown",
   "metadata": {},
   "source": [
    "#### **6**"
   ]
  },
  {
   "cell_type": "code",
   "execution_count": null,
   "metadata": {},
   "outputs": [],
   "source": [
    "%%clingo -V0 0\n",
    "a(X) :- b(X,Y), not c(Y).\n",
    "b(1,5). b(2,10)."
   ]
  },
  {
   "cell_type": "markdown",
   "metadata": {},
   "source": [
    "#### **7**"
   ]
  },
  {
   "cell_type": "code",
   "execution_count": null,
   "metadata": {
    "scrolled": true
   },
   "outputs": [],
   "source": [
    "%%clingo -V0 0\n",
    "a(X) :- b(X), Y = X+1, not b(Y).\n",
    "b(1). b(2). b(3)."
   ]
  },
  {
   "cell_type": "markdown",
   "metadata": {},
   "source": [
    "# Choices and constraints"
   ]
  },
  {
   "cell_type": "markdown",
   "metadata": {},
   "source": [
    "#### **1**"
   ]
  },
  {
   "cell_type": "code",
   "execution_count": null,
   "metadata": {},
   "outputs": [],
   "source": [
    "%%clingo -V0 0\n",
    "{ a(X) : b(X) }.\n",
    "b(1). b(2)."
   ]
  },
  {
   "cell_type": "markdown",
   "metadata": {},
   "source": [
    "#### **2**"
   ]
  },
  {
   "cell_type": "code",
   "execution_count": 5,
   "metadata": {},
   "outputs": [
    {
     "name": "stdout",
     "output_type": "stream",
     "text": [
      "b(1) b(2) c(2) a(2)\n",
      "b(1) b(2) c(1) a(1)\n",
      "SATISFIABLE\n"
     ]
    }
   ],
   "source": [
    "%%clingo -V0 0\n",
    "1 { a(X) : b(X) } 1.\n",
    "b(1). b(2).\n",
    "c(X) :- a(X)."
   ]
  },
  {
   "cell_type": "markdown",
   "metadata": {},
   "source": [
    "#### **3**"
   ]
  },
  {
   "cell_type": "code",
   "execution_count": null,
   "metadata": {
    "scrolled": true
   },
   "outputs": [],
   "source": [
    "%%clingo -V0 0\n",
    "1 { a(X,Y) : b(X), c(Y) } 1.\n",
    "b(1). b(2). \n",
    "c(3),c(4).\n",
    "d(X,Y) :- a(X,Y)."
   ]
  },
  {
   "cell_type": "code",
   "execution_count": null,
   "metadata": {},
   "outputs": [],
   "source": [
    "%%clingo -V0 0\n",
    "1 { a(X,Y) : b(X), c(Y) } 1.\n",
    "b(1). b(2). \n",
    "c(3), c(4).\n",
    "d(X,Y) :- a(X,Y).\n",
    "#show d/2."
   ]
  },
  {
   "cell_type": "markdown",
   "metadata": {},
   "source": [
    "#### **4**"
   ]
  },
  {
   "cell_type": "code",
   "execution_count": null,
   "metadata": {},
   "outputs": [],
   "source": [
    "%%clingo -V0 0\n",
    "{ a(X) : b(X) }.\n",
    "b(1). b(2).\n",
    ":- b(X), Y=X-1, a(Y)."
   ]
  },
  {
   "cell_type": "markdown",
   "metadata": {},
   "source": [
    "#### **5**"
   ]
  },
  {
   "cell_type": "code",
   "execution_count": null,
   "metadata": {},
   "outputs": [],
   "source": [
    "%%clingo -V0 0\n",
    "1 { a(X) : b(X) } 1.\n",
    "b(1). b(2).\n",
    "c(X) :- a(X).\n",
    ":- b(X), not a(X)."
   ]
  },
  {
   "cell_type": "markdown",
   "metadata": {},
   "source": [
    "#### **6**"
   ]
  },
  {
   "cell_type": "code",
   "execution_count": null,
   "metadata": {},
   "outputs": [],
   "source": [
    "%%clingo -V0 0\n",
    "1 { a(X,Y) : b(X) } 1 :- c(Y).\n",
    "b(1). b(2). c(3). c(4).\n",
    "d(X,Y) :- a(X,Y).\n",
    "#show d/2."
   ]
  },
  {
   "cell_type": "markdown",
   "metadata": {},
   "source": [
    "# Count aggregates"
   ]
  },
  {
   "cell_type": "markdown",
   "metadata": {},
   "source": [
    "#### **1**"
   ]
  },
  {
   "cell_type": "code",
   "execution_count": null,
   "metadata": {},
   "outputs": [],
   "source": [
    "%%clingo -V0 0\n",
    "a(1,1). a(1,2). a(2,1). a(2,2). a(2,3).\n",
    "b(1,1).                 b(2,2).         b(3,3).\n",
    "\n",
    "% c(S) if S is the cardinality of the set\n",
    "%         of all tuples X,Y such that a(X,Y) belongs to the answer set.\n",
    "%         In this case the set is { 1,1; 1,2; 2,1; 2,2; 2,3 } and S is 5.\n",
    "c(S) :- S = #count{ X,Y : a(X,Y) }.\n",
    "            \n",
    "% d(S) if S is the cardinality of the set\n",
    "%         of all tuples X such that a(X,Y) belongs to the answer set.\n",
    "%         In this case the set is { 1; 2 } and S is 2.\n",
    "d(S) :- S = #count{   X : a(X,Y) }.\n",
    "\n",
    "% e(S) if S is the cardinality of the set\n",
    "%         of all tuples Y such that a(X,Y) belongs to the answer set.\n",
    "%         In this case the set is { 1; 2; 3 } and S is 3.\n",
    "e(S) :- S = #count{   Y : a(X,Y) }.\n",
    "\n",
    "#show c/1. #show d/1. #show e/1."
   ]
  },
  {
   "cell_type": "code",
   "execution_count": null,
   "metadata": {},
   "outputs": [],
   "source": [
    "%%clingo -V0 0\n",
    "a(1,1). a(1,2).         a(2,2). a(2,3).\n",
    "b(1,1).                                 b(3,3).\n",
    "\n",
    "c(S) :- S = #count{ X,Y : a(X,Y) }.\n",
    "d(S) :- S = #count{   X : a(X,Y) }.\n",
    "e(S) :- S = #count{   Y : a(X,Y) }.\n",
    "\n",
    "#show c/1. #show d/1. #show e/1."
   ]
  },
  {
   "cell_type": "markdown",
   "metadata": {},
   "source": [
    "#### **2**"
   ]
  },
  {
   "cell_type": "code",
   "execution_count": null,
   "metadata": {},
   "outputs": [],
   "source": [
    "%%clingo -V0 0\n",
    "a(1,1). a(1,2). a(2,1). a(2,2). a(2,3).\n",
    "b(1,1).                 b(2,2).         b(3,3).\n",
    "\n",
    "% c(S) if S is the cardinality of the set\n",
    "%         of all tuples X,Y such that a(X,Y) belongs to the answer set, and\n",
    "%            all tuples X,Y such that b(X,Y) belongs to the answer set.\n",
    "%         In this case the set is { 1,1; 1,2; 2,1; 2,2; 2,3; 3,3 } and S is 6.\n",
    "c(S) :- S = #count{   X,Y : a(X,Y);      X,Y : b(X,Y) }.\n",
    "    \n",
    "% d(S) if S is the cardinality of the set\n",
    "%         of all tuples X,Y such that a(X,Y) belongs to the answer set, and\n",
    "%            all tuples Z,W such that b(Z,W) belongs to the answer set.\n",
    "%         In this case the set is { 1,1; 1,2; 2,1; 2,2; 2,3; 3,3 } and S is 6.\n",
    "d(S) :- S = #count{   X,Y : a(X,Y);      Z,W : b(Z,W) }.\n",
    "\n",
    "% e(S) if S is the cardinality of the set\n",
    "%         of all tuples X,Y,1 such that a(X,Y) belongs to the answer set, and\n",
    "%            all tuples X,Y,2 such that b(X,Y) belongs to the answer set.\n",
    "%         In this case the set is { 1,1,1; 1,2,1; 2,1,1; 2,2,1; 2,3,1; 1,1,2; 2,2,2; 3,3,2 } and S is 8.\n",
    "e(S) :- S = #count{ X,Y,1 : a(X,Y);    X,Y,2 : b(X,Y) }. \n",
    "\n",
    "% f(S) if S is the cardinality of the set\n",
    "%         of all tuples X,Y   such that a(X,Y) belongs to the answer set, and\n",
    "%            all tuples X,Y,2 such that b(X,Y) belongs to the answer set.\n",
    "%         In this case the set is { 1,1; 1,2; 2,1; 2,2; 2,3; 1,1,2; 2,2,2; 3,3,2 } and S is 8.\n",
    "f(S) :- S = #count{   X,Y : a(X,Y);    X,Y,2 : b(X,Y) }. \n",
    " \n",
    "#show c/1. #show d/1. #show e/1. #show f/1. "
   ]
  },
  {
   "cell_type": "code",
   "execution_count": null,
   "metadata": {},
   "outputs": [],
   "source": [
    "%%clingo -V0 0\n",
    "a(1,1). a(1,2).         a(2,2). a(2,3).\n",
    "b(1,1).                                 b(3,3).\n",
    "\n",
    "c(S) :- S = #count{   X,Y : a(X,Y);      X,Y : b(X,Y) }.\n",
    "d(S) :- S = #count{   X,Y : a(X,Y);      Z,W : b(Z,W) }.\n",
    "e(S) :- S = #count{ X,Y,1 : a(X,Y);    X,Y,2 : b(X,Y) }. \n",
    "f(S) :- S = #count{   X,Y : a(X,Y);    X,Y,2 : b(X,Y) }. \n",
    " \n",
    "#show c/1. #show d/1. #show e/1. #show f/1. "
   ]
  },
  {
   "cell_type": "markdown",
   "metadata": {},
   "source": [
    "#### **3**"
   ]
  },
  {
   "cell_type": "code",
   "execution_count": null,
   "metadata": {},
   "outputs": [],
   "source": [
    "%%clingo -V0 0\n",
    "a(1,1). a(1,2). a(2,1). a(2,2). a(2,3).\n",
    "b(1,1).                 b(2,2).         b(3,3).\n",
    "c(1).           c(2).\n",
    "    \n",
    "% d(X,S) if c(X) and S is the cardinality of the set\n",
    "%           of all tuples Y such that a(X,Y) belongs to the answer set, and\n",
    "%              all tuples Z such that b(X,Z) belongs to the answer set.\n",
    "%           In this case when X is 1 the set is { 1; 2    } and S is 2, and\n",
    "%                        when X is 2 the set is { 1; 2; 3 } and S is 3.\n",
    "d(X,S) :- c(X), S = #count{   Y : a(X,Y);        Z : b(X,Z) }.\n",
    "\n",
    "% e(X,S) if c(X) and S is the cardinality of the set\n",
    "%           of all tuples Y,a such that a(X,Y) belongs to the answer set, and\n",
    "%              all tuples Z,b such that b(X,Z) belongs to the answer set.\n",
    "%           In this case when X is 1 the set is { 1,a; 2,a; 1,b      } and S is 3, and\n",
    "%                        when X is 2 the set is { 1,a; 2,a; 3,a; 2,b } and S is 4.\n",
    "e(X,S) :- c(X), S = #count{ Y,a : a(X,Y);      Z,b : b(X,Z) }.\n",
    "\n",
    "#show d/2. #show e/2."
   ]
  },
  {
   "cell_type": "code",
   "execution_count": null,
   "metadata": {},
   "outputs": [],
   "source": [
    "%%clingo -V0 0\n",
    "a(1,1). a(1,2).         a(2,2). a(2,3).\n",
    "b(1,1).                                 b(3,3).\n",
    "c(1).             c(2).\n",
    "\n",
    "d(X,S) :- c(X), S = #count{   Y : a(X,Y);        Z : b(X,Z) }.\n",
    "e(X,S) :- c(X), S = #count{ Y,a : a(X,Y);      Z,b : b(X,Z) }.\n",
    "\n",
    "#show d/2. #show e/2."
   ]
  },
  {
   "cell_type": "markdown",
   "metadata": {},
   "source": [
    "#### **4**"
   ]
  },
  {
   "cell_type": "code",
   "execution_count": null,
   "metadata": {},
   "outputs": [],
   "source": [
    "%%clingo -V0 0\n",
    "n(1..2).\n",
    "{ a(X) : n(X) }.\n",
    ":- 2 #count{ X : a(X) }.\n",
    "#show a/1."
   ]
  },
  {
   "cell_type": "markdown",
   "metadata": {},
   "source": [
    "#### **5**"
   ]
  },
  {
   "cell_type": "code",
   "execution_count": null,
   "metadata": {},
   "outputs": [],
   "source": [
    "%%clingo -V0 0\n",
    "n(1..2).\n",
    "{ a(X,Y) : n(X), n(Y) }.\n",
    ":- 2 #count{ X,Y : a(X,Y) }.\n",
    "#show a/2."
   ]
  },
  {
   "cell_type": "code",
   "execution_count": null,
   "metadata": {},
   "outputs": [],
   "source": [
    "%%clingo -V0 0\n",
    "n(1..2).\n",
    "{ a(X,Y) : n(X), n(Y) }.\n",
    ":- 2 #count{ X : a(X,Y) }.\n",
    "#show a/2."
   ]
  },
  {
   "cell_type": "markdown",
   "metadata": {},
   "source": [
    "#### **6**"
   ]
  },
  {
   "cell_type": "code",
   "execution_count": null,
   "metadata": {},
   "outputs": [],
   "source": [
    "%%clingo -V0 0\n",
    "n(1..2).\n",
    "1 { a(X,Y) : n(X), n(Y) } 1.\n",
    "1 { b(X,Y) : n(X), n(Y) } 1.\n",
    ":- 2 #count{ X,Y : a(X,Y);   Z,W : b(Z,W) }.\n",
    "#show a/2. #show b/2."
   ]
  },
  {
   "cell_type": "code",
   "execution_count": null,
   "metadata": {},
   "outputs": [],
   "source": [
    "%%clingo -V0 0\n",
    "n(1..2).\n",
    "1 { a(X,Y) : n(X), n(Y) } 1.\n",
    "1 { b(X,Y) : n(X), n(Y) } 1.\n",
    ":- 2 #count{ X,Y,a : a(X,Y);   Z,W,b : b(Z,W) }.\n",
    "#show a/2. #show b/2."
   ]
  },
  {
   "cell_type": "markdown",
   "metadata": {},
   "source": [
    "# Sum aggregates"
   ]
  },
  {
   "cell_type": "markdown",
   "metadata": {},
   "source": [
    "#### **1**"
   ]
  },
  {
   "cell_type": "code",
   "execution_count": null,
   "metadata": {},
   "outputs": [],
   "source": [
    "%%clingo -V0 0\n",
    "a(1,1). a(1,2). a(2,1). a(2,2). a(2,3).\n",
    "b(1,1).                 b(2,2).         b(3,3).\n",
    "\n",
    "% c(S) if S is the result of adding the first element of every tuple of the set\n",
    "%         of all tuples 1,X,Y such that a(X,Y) belongs to the answer set.\n",
    "%         In this case the set is { 1,1,1; 1,1,2; 1,2,1; 1,2,2; 1,2,3 } and S is 5.\n",
    "c(S) :- S = #sum{ 1,X,Y : a(X,Y) }.\n",
    "    \n",
    "% d(S) if S is the result of adding the first element of every tuple of the set\n",
    "%         of all tuples 2,X such that a(X,Y) belongs to the answer set.\n",
    "%         In this case the set is { 2,1; 2,2 } and S is 4.\n",
    "d(S) :- S = #sum{   2,X : a(X,Y) }.\n",
    "    \n",
    "% e(S) if S is the result of adding the first element of every tuple of the set\n",
    "%         of all tuples -1,Y such that a(X,Y) belongs to the answer set.\n",
    "%         In this case the set is { -1,1; -1,2; -1,3 } and S is -3.\n",
    "e(S) :- S = #sum{  -1,Y : a(X,Y) }.\n",
    "    \n",
    "% f(S) if S is the result of adding the first element of every tuple of the set\n",
    "%         of all tuples X,Y such that a(X,Y) belongs to the answer set.\n",
    "%         In this case the set is { 1,1; 1,2; 2,1; 2,2; 2,3 } and S is 8.\n",
    "f(S) :- S = #sum{   X,Y : a(X,Y) }.\n",
    "\n",
    "#show c/1. #show d/1. #show e/1. #show f/1."
   ]
  },
  {
   "cell_type": "code",
   "execution_count": null,
   "metadata": {},
   "outputs": [],
   "source": [
    "%%clingo -V0 0\n",
    "a(1,1). a(1,2).         a(2,2). a(2,3).\n",
    "b(1,1).                                 b(3,3).\n",
    "\n",
    "c(S) :- S = #sum{ 1,X,Y : a(X,Y) }.\n",
    "d(S) :- S = #sum{   2,X : a(X,Y) }.\n",
    "e(S) :- S = #sum{  -1,Y : a(X,Y) }.\n",
    "f(S) :- S = #sum{   X,Y : a(X,Y) }.\n",
    "g(S) :- S = #sum{   X : a(X,Y) }.\n",
    "    \n",
    "#show c/1. #show d/1. #show e/1. #show f/1. #show g/1."
   ]
  },
  {
   "cell_type": "markdown",
   "metadata": {},
   "source": [
    "#### **2**"
   ]
  },
  {
   "cell_type": "code",
   "execution_count": null,
   "metadata": {},
   "outputs": [],
   "source": [
    "%%clingo -V0 0\n",
    "a(1,1). a(1,2). a(2,1). a(2,2). a(2,3).\n",
    "b(1,1).                 b(2,2).         b(3,3).\n",
    "\n",
    "% c(S) if S is the result of adding the first element of every tuple of the set\n",
    "%         of all tuples 1,X,Y such that a(X,Y) belongs to the answer set, and\n",
    "%            all tuples 1,Z,W such that b(Z,W) belongs to the answer set.\n",
    "%         In this case the set is { 1,1,1; 1,1,2; 1,2,1; 1,2,2; 1,2,3; 1,3,3 } and S is 6.\n",
    "c(S) :- S = #sum{ 1,X,Y : a(X,Y);   1,Z,W : b(Z,W) }.\n",
    "\n",
    "% d(S) if S is the result of adding the first element of every tuple of the set\n",
    "%         of all tuples 1,X,Y such that a(X,Y) belongs to the answer set, and\n",
    "%            all tuples 2,X,Y such that b(X,Y) belongs to the answer set.\n",
    "%         In this case the set is { 1,1,1; 1,1,2; 1,2,1; 1,2,2; 1,2,3; 2,1,1; 2,2,2; 2,3,3 } and S is 11.\n",
    "d(S) :- S = #sum{ 1,X,Y : a(X,Y);   2,X,Y : b(X,Y) }.\n",
    "\n",
    "% e(S) if S is the result of adding the first element of every tuple of the set\n",
    "%         of all tuples 1,X,Y,a such that a(X,Y) belongs to the answer set, and\n",
    "%            all tuples 1,X,Y,b such that b(X,Y) belongs to the answer set.\n",
    "%         In this case the set is { 1,1,1,a; 1,1,2,a; 1,2,1,a; 1,2,2,a; 1,2,3,a; 2,1,1,b; 2,2,2,b; 2,3,3,b } and S is 8.    \n",
    "e(S) :- S = #sum{ 1,X,Y,a : a(X,Y);   1,X,Y,b : b(X,Y) }.\n",
    "    \n",
    "#show c/1. #show d/1. #show e/1."
   ]
  },
  {
   "cell_type": "code",
   "execution_count": null,
   "metadata": {},
   "outputs": [],
   "source": [
    "%%clingo -V0 0\n",
    "a(1,1). a(1,2).         a(2,2). a(2,3).\n",
    "b(1,1).                                 b(3,3).\n",
    "\n",
    "c(S) :- S = #sum{ 1,X,Y : a(X,Y);   1,Z,W : b(Z,W) }.\n",
    "d(S) :- S = #sum{ 1,X,Y : a(X,Y);   2,X,Y : b(X,Y) }.\n",
    "    \n",
    "#show c/1. #show d/1."
   ]
  },
  {
   "cell_type": "markdown",
   "metadata": {},
   "source": [
    "#### **3**"
   ]
  },
  {
   "cell_type": "code",
   "execution_count": null,
   "metadata": {},
   "outputs": [],
   "source": [
    "%%clingo -V0 0\n",
    "a(1,1). a(1,2). a(2,1). a(2,2). a(2,3).\n",
    "b(1,1).                 b(2,2).         b(3,3).\n",
    "c(1).           c(2).\n",
    "\n",
    "% d(X,S) if c(X) and S is the result of adding the first element of every tuple of the set\n",
    "%           of all tuples 1,Y such that a(X,Y) belongs to the answer set, and\n",
    "%              all tuples 1,Z such that b(X,Z) belongs to the answer set.\n",
    "%           In this case when X is 1 the set is { 1,1; 1,2      } and S is 2, and\n",
    "%                        when X is 2 the set is { 1,1; 1,2; 1,3 } and S is 3.    \n",
    "d(X,S) :- c(X), S = #sum{ 1,Y : a(X,Y);     1,Z : b(X,Z) }.\n",
    "\n",
    "% e(X,S) if c(X) and S is the result of adding the first element of every tuple of the set\n",
    "%           of all tuples 1,Y such that a(X,Y) belongs to the answer set, and\n",
    "%              all tuples 5,Y such that b(X,Y) belongs to the answer set.\n",
    "%           In this case when X is 1 the set is { 1,1; 1,2; 5,1      } and S is 7, and\n",
    "%                        when X is 2 the set is { 1,1; 1,2; 1,3; 5,2 } and S is 8.    \n",
    "e(X,S) :- c(X), S = #sum{ 1,Y : a(X,Y);     5,Y : b(X,Y) }.\n",
    "\n",
    "#show d/2. #show e/2."
   ]
  },
  {
   "cell_type": "code",
   "execution_count": null,
   "metadata": {},
   "outputs": [],
   "source": [
    "%%clingo -V0 0\n",
    "a(1,1). a(1,2).         a(2,2). a(2,3).\n",
    "b(1,1).                                 b(3,3).\n",
    "c(1).           c(2).\n",
    "\n",
    "d(X,S) :- c(X), S = #sum{ 1,Y : a(X,Y);     1,Z : b(X,Z) }.\n",
    "e(X,S) :- c(X), S = #sum{ 1,Y : a(X,Y);     5,Y : b(X,Y) }.\n",
    "\n",
    "#show d/2. #show e/2."
   ]
  },
  {
   "cell_type": "markdown",
   "metadata": {},
   "source": [
    "#### **4**"
   ]
  },
  {
   "cell_type": "code",
   "execution_count": 6,
   "metadata": {},
   "outputs": [
    {
     "name": "stdout",
     "output_type": "stream",
     "text": [
      "\n",
      "a(1)\n",
      "a(0)\n",
      "a(0) a(1)\n",
      "SATISFIABLE\n"
     ]
    }
   ],
   "source": [
    "%%clingo -V0 0\n",
    "n(1..2). n(0).\n",
    "{ a(X) : n(X) }.\n",
    ":- 2 #sum{ X : a(X) }.\n",
    "#show a/1."
   ]
  },
  {
   "cell_type": "markdown",
   "metadata": {},
   "source": [
    "# Conditional litterals"
   ]
  },
  {
   "cell_type": "markdown",
   "metadata": {},
   "source": [
    "#### **1**"
   ]
  },
  {
   "cell_type": "code",
   "execution_count": 7,
   "metadata": {},
   "outputs": [
    {
     "name": "stdout",
     "output_type": "stream",
     "text": [
      "c\n",
      "SATISFIABLE\n"
     ]
    }
   ],
   "source": [
    "%%clingo -V0 0\n",
    "a(1..2).\n",
    "b(1..2).\n",
    "c :- a(X) : b(X).\n",
    "#show c/0."
   ]
  },
  {
   "cell_type": "markdown",
   "metadata": {},
   "source": [
    "#### **2**"
   ]
  },
  {
   "cell_type": "code",
   "execution_count": null,
   "metadata": {},
   "outputs": [],
   "source": [
    "%%clingo -V0 0\n",
    "a(1).\n",
    "b(1..2).\n",
    "c :- a(X) : b(X).\n",
    "#show c/0."
   ]
  },
  {
   "cell_type": "code",
   "execution_count": null,
   "metadata": {},
   "outputs": [],
   "source": [
    "%%clingo -V0 0\n",
    "\n",
    "b(1).\n",
    "c :- a(X) : b(X).\n",
    "#show c/0."
   ]
  },
  {
   "cell_type": "markdown",
   "metadata": {},
   "source": [
    "#### **3**"
   ]
  },
  {
   "cell_type": "code",
   "execution_count": null,
   "metadata": {},
   "outputs": [],
   "source": [
    "%%clingo -V0 0\n",
    "a(1..2).\n",
    "b(1..2).\n",
    "c(1..2).\n",
    "d :- a(X) : b(X), c(X).\n",
    "#show d/0."
   ]
  },
  {
   "cell_type": "code",
   "execution_count": null,
   "metadata": {},
   "outputs": [],
   "source": [
    "%%clingo -V0 0\n",
    "a(1..2).\n",
    "b(1..2).\n",
    "c(1..3).\n",
    "d :- a(X) : b(X), c(X).\n",
    "#show d/0."
   ]
  },
  {
   "cell_type": "code",
   "execution_count": null,
   "metadata": {},
   "outputs": [],
   "source": [
    "%%clingo -V0 0\n",
    "a(1..2).\n",
    "b(1..3).\n",
    "c(1..3).\n",
    "d :- a(X) : b(X), c(X).\n",
    "#show d/0."
   ]
  },
  {
   "cell_type": "code",
   "execution_count": null,
   "metadata": {},
   "outputs": [],
   "source": [
    "%%clingo -V0 0\n",
    "a(1..2).\n",
    "b(1..2).\n",
    "c(1..3).\n",
    "d :- a(X) : b(X); a(X) : c(X).\n",
    "#show d/0."
   ]
  },
  {
   "cell_type": "markdown",
   "metadata": {},
   "source": [
    "#### **4**"
   ]
  },
  {
   "cell_type": "code",
   "execution_count": null,
   "metadata": {},
   "outputs": [],
   "source": [
    "%%clingo -V0 0\n",
    "a(1..2).\n",
    "b(1..3).\n",
    "c(1..3).\n",
    "d(X) :- a(X) : b(X);   c(X).\n",
    "#show d/1."
   ]
  },
  {
   "cell_type": "code",
   "execution_count": null,
   "metadata": {},
   "outputs": [],
   "source": [
    "%%clingo -V0 0\n",
    "a(1..2).\n",
    "b(1..3).\n",
    "c(1..3).\n",
    "d :- a(X) : b(X);   c(X).\n",
    "#show d/0."
   ]
  },
  {
   "cell_type": "code",
   "execution_count": null,
   "metadata": {},
   "outputs": [],
   "source": []
  },
  {
   "cell_type": "code",
   "execution_count": null,
   "metadata": {},
   "outputs": [],
   "source": [
    "%%clingo -V0 0\n",
    "a(1..2).\n",
    "b(1..2,1..2). b(2,3).\n",
    "c(1..2).\n",
    "d(X) :- a(Y) : b(X,Y);   c(X).\n",
    "%#show d/1."
   ]
  },
  {
   "cell_type": "code",
   "execution_count": null,
   "metadata": {},
   "outputs": [],
   "source": []
  }
 ],
 "metadata": {
  "kernelspec": {
   "display_name": "Python 3 (ipykernel)",
   "language": "python",
   "name": "python3"
  },
  "language_info": {
   "codemirror_mode": {
    "name": "ipython",
    "version": 3
   },
   "file_extension": ".py",
   "mimetype": "text/x-python",
   "name": "python",
   "nbconvert_exporter": "python",
   "pygments_lexer": "ipython3",
   "version": "3.10.12"
  }
 },
 "nbformat": 4,
 "nbformat_minor": 4
}
