{
 "cells": [
  {
   "cell_type": "markdown",
   "metadata": {},
   "source": [
    "# Going further\n"
   ]
  },
  {
   "cell_type": "markdown",
   "metadata": {},
   "source": [
    "## Numbers "
   ]
  },
  {
   "cell_type": "code",
   "execution_count": 1,
   "metadata": {},
   "outputs": [
    {
     "name": "stdout",
     "output_type": "stream",
     "text": [
      "Created `%%clingo` as an alias for `%%script clingo --no-raise-error`.\n"
     ]
    }
   ],
   "source": [
    "%alias_magic clingo script -p \"clingo --no-raise-error\""
   ]
  },
  {
   "cell_type": "code",
   "execution_count": 2,
   "metadata": {},
   "outputs": [
    {
     "name": "stdout",
     "output_type": "stream",
     "text": [
      "nb_3(3) nb_3(42)\n",
      "SATISFIABLE\n"
     ]
    }
   ],
   "source": [
    "%%clingo -V0 0\n",
    "\n",
    "value(3). value(17). value(120). value(42).\n",
    "nb_3(X) :- 0<X ; X<100 ; X\\3=0, value(X).\n",
    "    \n",
    "#show nb_3/1."
   ]
  },
  {
   "cell_type": "code",
   "execution_count": 4,
   "metadata": {},
   "outputs": [
    {
     "name": "stdout",
     "output_type": "stream",
     "text": [
      "nb(34)\n",
      "nb(51)\n",
      "nb(68)\n",
      "nb(85)\n",
      "nb(17)\n",
      "SATISFIABLE\n"
     ]
    }
   ],
   "source": [
    "%%clingo -V0 0\n",
    "\n",
    "1 { nb(1..100) } 1.\n",
    "\n",
    ":- nb(N) ; (N\\17) != 0."
   ]
  },
  {
   "cell_type": "code",
   "execution_count": 5,
   "metadata": {},
   "outputs": [
    {
     "name": "stdout",
     "output_type": "stream",
     "text": [
      "a(24) entoure(23,24,25)\n",
      "SATISFIABLE\n"
     ]
    }
   ],
   "source": [
    "%%clingo -V0 0\n",
    "\n",
    "a(24).\n",
    "entoure(X-1,X,X+1):- a(X)."
   ]
  },
  {
   "cell_type": "markdown",
   "metadata": {},
   "source": [
    "## Python"
   ]
  },
  {
   "cell_type": "code",
   "execution_count": null,
   "metadata": {},
   "outputs": [],
   "source": [
    "%%clingo -V0 0\n",
    "\n",
    "% python functions definition\n",
    "#script(python)\n",
    "import clingo\n",
    "\n",
    "def get_value():\n",
    "    return 1\n",
    "#end.\n",
    "\n",
    "% python functions usage\n",
    "a(X) :- X = @get_value()."
   ]
  },
  {
   "cell_type": "markdown",
   "metadata": {},
   "source": [
    "a(1)\n",
    "\n",
    "SATISFIABLE"
   ]
  },
  {
   "cell_type": "code",
   "execution_count": null,
   "metadata": {},
   "outputs": [],
   "source": [
    "#script(python)\n",
    "import clingo\n",
    "\n",
    "def get_value(Y):\n",
    "    Y = int(str(Y))\n",
    "    return clingo.Number(Y*5)\n",
    "#end.\n",
    "b(2).\n",
    "\n",
    "a(X) :- X = @get_value(Y) ; b(Y)."
   ]
  },
  {
   "cell_type": "markdown",
   "metadata": {},
   "source": [
    "b(2) a(10)\n",
    "\n",
    "SATISFIABLE"
   ]
  },
  {
   "cell_type": "code",
   "execution_count": null,
   "metadata": {},
   "outputs": [],
   "source": [
    "#script(python)\n",
    "def get_value(X):\n",
    "    X = int(str(X))\n",
    "    return X**2+2\n",
    "#end.\n",
    "\n",
    "% python functions usage\n",
    "a(X) :- b(Y) ; X = @get_value(Y).\n",
    "\n",
    "b(8)."
   ]
  },
  {
   "cell_type": "markdown",
   "metadata": {},
   "source": [
    "b(8) a(66)\n",
    "\n",
    "SATISFIABLE"
   ]
  },
  {
   "cell_type": "code",
   "execution_count": null,
   "metadata": {},
   "outputs": [],
   "source": [
    "#script(python)\n",
    "import clingo\n",
    "\n",
    "def get_value(Y):\n",
    "    Y = int(str(Y))\n",
    "    if Y*5 > 8:\n",
    "        return \"Hello world\"\n",
    "    else:\n",
    "        return \"foo\"\n",
    "#end.\n",
    "b(2).\n",
    "b(1).\n",
    "1 {c(X) : b(X)} 1.\n",
    "a(X) :- X = @get_value(Y) ; c(Y)."
   ]
  },
  {
   "cell_type": "markdown",
   "metadata": {},
   "source": [
    "```\n",
    "clingoLP clingo_py.lp 0\n",
    "clingoLP version 0.1.0\n",
    "Reading from clingo_py.lp\n",
    "Solving...\n",
    "Answer: 1\n",
    "b(2) b(1) a(\"foo\") c(1)\n",
    "Answer: 2\n",
    "b(2) b(1) a(\"Hello world\") c(2)\n",
    "SATISFIABLE\n",
    "\n",
    "Models       : 2\n",
    "Calls        : 1\n",
    "Time         : 0.004s (Solving: 0.00s 1st Model: 0.00s Unsat: 0.00s)\n",
    "CPU Time     : 0.001`\n",
    "```\n"
   ]
  },
  {
   "cell_type": "markdown",
   "metadata": {},
   "source": [
    "## Booleans"
   ]
  },
  {
   "cell_type": "code",
   "execution_count": 6,
   "metadata": {},
   "outputs": [
    {
     "name": "stdout",
     "output_type": "stream",
     "text": [
      "true notfalse\n",
      "SATISFIABLE\n"
     ]
    }
   ],
   "source": [
    "%%clingo -V0 0\n",
    "\n",
    "% #true and #false\n",
    "true :- #true.\n",
    "notfalse :- not #false."
   ]
  },
  {
   "cell_type": "markdown",
   "metadata": {},
   "source": [
    "## Constants"
   ]
  },
  {
   "cell_type": "code",
   "execution_count": 7,
   "metadata": {},
   "outputs": [
    {
     "name": "stdout",
     "output_type": "stream",
     "text": [
      "a(2)\n",
      "SATISFIABLE\n"
     ]
    }
   ],
   "source": [
    "%%clingo -V0 0\n",
    "\n",
    "% constants\n",
    "#const n=2.\n",
    "a(n)."
   ]
  },
  {
   "cell_type": "code",
   "execution_count": 8,
   "metadata": {},
   "outputs": [
    {
     "name": "stdout",
     "output_type": "stream",
     "text": [
      "a(house)\n",
      "SATISFIABLE\n"
     ]
    }
   ],
   "source": [
    "%%clingo -V0 0 -c n=house\n",
    "\n",
    "% constants\n",
    "\n",
    "a(n)."
   ]
  },
  {
   "cell_type": "markdown",
   "metadata": {},
   "source": [
    "## Intervals"
   ]
  },
  {
   "cell_type": "code",
   "execution_count": 9,
   "metadata": {},
   "outputs": [
    {
     "name": "stdout",
     "output_type": "stream",
     "text": [
      "a(-1) a(0) a(1)\n",
      "SATISFIABLE\n"
     ]
    }
   ],
   "source": [
    "%%clingo -V0 0\n",
    "\n",
    "% intervals\n",
    "a(-1..1)."
   ]
  },
  {
   "cell_type": "markdown",
   "metadata": {},
   "source": [
    "## Show statements"
   ]
  },
  {
   "cell_type": "code",
   "execution_count": 10,
   "metadata": {},
   "outputs": [
    {
     "name": "stdout",
     "output_type": "stream",
     "text": [
      "a(1)\n",
      "SATISFIABLE\n"
     ]
    }
   ],
   "source": [
    "%%clingo -V0 0\n",
    "\n",
    "% show statements\n",
    "a(1). b(1).\n",
    "#show a/1.\n"
   ]
  },
  {
   "cell_type": "code",
   "execution_count": 11,
   "metadata": {},
   "outputs": [
    {
     "name": "stdout",
     "output_type": "stream",
     "text": [
      "\n",
      "SATISFIABLE\n"
     ]
    }
   ],
   "source": [
    "%%clingo -V0 0\n",
    "\n",
    "% show statements\n",
    "a(1). b(1).\n",
    "#show.\n"
   ]
  },
  {
   "cell_type": "code",
   "execution_count": 12,
   "metadata": {},
   "outputs": [
    {
     "name": "stdout",
     "output_type": "stream",
     "text": [
      "\"wonderful\"\n",
      "SATISFIABLE\n"
     ]
    }
   ],
   "source": [
    "%%clingo -V0 0\n",
    "\n",
    "% show statements\n",
    "a(1). b(1).\n",
    "\n",
    "#show.\n",
    "#show \"wonderful\" : a(1), b(1).\n"
   ]
  },
  {
   "cell_type": "markdown",
   "metadata": {},
   "source": [
    "## Output format"
   ]
  },
  {
   "cell_type": "code",
   "execution_count": 15,
   "metadata": {},
   "outputs": [
    {
     "name": "stdout",
     "output_type": "stream",
     "text": [
      "{\n",
      "  \"Solver\": \"clingo version 5.3.0\",\n",
      "  \"Input\": [\n",
      "    \"stdin\"\n",
      "  ],\n",
      "  \"Call\": [\n",
      "    {\n",
      "      \"Witnesses\": [\n",
      "        {\n",
      "          \"Value\": [\n",
      "            \"assign(1,b)\", \"assign(2,g)\", \"assign(3,g)\", \"assign(4,r)\", \"assign(5,b)\", \"assign(6,r)\"\n",
      "          ]\n",
      "        },\n",
      "        {\n",
      "          \"Value\": [\n",
      "            \"assign(1,r)\", \"assign(2,g)\", \"assign(3,g)\", \"assign(4,b)\", \"assign(5,r)\", \"assign(6,b)\"\n",
      "          ]\n",
      "        },\n",
      "        {\n",
      "          \"Value\": [\n",
      "            \"assign(1,r)\", \"assign(2,b)\", \"assign(3,b)\", \"assign(4,g)\", \"assign(5,r)\", \"assign(6,g)\"\n",
      "          ]\n",
      "        },\n",
      "        {\n",
      "          \"Value\": [\n",
      "            \"assign(2,b)\", \"assign(1,g)\", \"assign(3,b)\", \"assign(4,r)\", \"assign(5,g)\", \"assign(6,r)\"\n",
      "          ]\n",
      "        },\n",
      "        {\n",
      "          \"Value\": [\n",
      "            \"assign(2,r)\", \"assign(1,b)\", \"assign(3,r)\", \"assign(4,g)\", \"assign(5,b)\", \"assign(6,g)\"\n",
      "          ]\n",
      "        },\n",
      "        {\n",
      "          \"Value\": [\n",
      "            \"assign(2,r)\", \"assign(1,g)\", \"assign(3,r)\", \"assign(4,b)\", \"assign(5,g)\", \"assign(6,b)\"\n",
      "          ]\n",
      "        }\n",
      "      ]\n",
      "    }\n",
      "  ],\n",
      "  \"Result\": \"SATISFIABLE\",\n",
      "  \"Models\": {\n",
      "    \"Number\": 6,\n",
      "    \"More\": \"no\"\n",
      "  },\n",
      "  \"Calls\": 1,\n",
      "  \"Time\": {\n",
      "    \"Total\": 0.001,\n",
      "    \"Solve\": 0.000,\n",
      "    \"Model\": 0.000,\n",
      "    \"Unsat\": 0.000,\n",
      "    \"CPU\": 0.001\n",
      "  }\n",
      "}\n"
     ]
    }
   ],
   "source": [
    "%%clingo 0 --outf 2\n",
    "node(1..6).\n",
    "edge(1,(2;3;4)).  edge(2,(4;5;6)).  edge(3,(1;4;5))\n",
    ".edge(4,(1;2)).   edge(5,(3;4;6)).  edge(6,(2;3;5)).\n",
    "\n",
    "color(r).   color(b).   color(g).\n",
    "\n",
    "assign(X,C) : color(C) :- node(X).\n",
    "\n",
    ":- edge(X,Y), assign(X,C), assign(Y,C).\n",
    "\n",
    "#show assign/2."
   ]
  },
  {
   "cell_type": "markdown",
   "metadata": {},
   "source": [
    "## Mute variables"
   ]
  },
  {
   "cell_type": "code",
   "execution_count": 16,
   "metadata": {},
   "outputs": [
    {
     "name": "stdout",
     "output_type": "stream",
     "text": [
      "has_child(\"Athena\") has_child(\"DarthVader\") has_child(\"Chronos\")\n",
      "SATISFIABLE\n"
     ]
    }
   ],
   "source": [
    "%%clingo -V0 0\n",
    "\n",
    "dad(\"Luke\", \"DarthVader\").\n",
    "dad(\"Zeus\", \"Chronos\").\n",
    "mom(\"Metis\", \"Athena\").\n",
    "\n",
    "has_child(X) :- dad(_,X).\n",
    "has_child(X) :- mom(_,X).\n",
    "    \n",
    "#show has_child/1."
   ]
  },
  {
   "cell_type": "code",
   "execution_count": null,
   "metadata": {},
   "outputs": [],
   "source": []
  }
 ],
 "metadata": {
  "kernelspec": {
   "display_name": "Python 3 (ipykernel)",
   "language": "python",
   "name": "python3"
  },
  "language_info": {
   "codemirror_mode": {
    "name": "ipython",
    "version": 3
   },
   "file_extension": ".py",
   "mimetype": "text/x-python",
   "name": "python",
   "nbconvert_exporter": "python",
   "pygments_lexer": "ipython3",
   "version": "3.10.12"
  }
 },
 "nbformat": 4,
 "nbformat_minor": 2
}
