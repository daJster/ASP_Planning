{
 "cells": [
  {
   "cell_type": "markdown",
   "id": "efdcce8f",
   "metadata": {},
   "source": [
    "# Graph coloring"
   ]
  },
  {
   "cell_type": "code",
   "execution_count": null,
   "id": "2a870811",
   "metadata": {},
   "outputs": [],
   "source": [
    "%alias_magic clingo script -p \"clingo --no-raise-error\""
   ]
  },
  {
   "cell_type": "markdown",
   "id": "1bed9efa",
   "metadata": {},
   "source": [
    "Given an undirected graph, the graph coloring problem aims at assigning colors to nodes such that no pair of adjacent nodes are assigned the same color. \n",
    "\n",
    "<img src=\"files/figures/TP4/graph_coloring.png\" width=700>"
   ]
  },
  {
   "cell_type": "markdown",
   "id": "538c7b7d",
   "metadata": {},
   "source": [
    "**Tasks**\n",
    "1. Describe the above graph as atoms\n",
    "2. Describe the graph coloring problem"
   ]
  },
  {
   "cell_type": "code",
   "execution_count": null,
   "id": "2345eb44",
   "metadata": {},
   "outputs": [],
   "source": [
    "%%clingo -V0 0\n",
    "\n",
    "\n",
    "#show color/2."
   ]
  },
  {
   "cell_type": "markdown",
   "id": "76529a4d",
   "metadata": {},
   "source": [
    "# Small exercises\n",
    "\n",
    "## Birds"
   ]
  },
  {
   "cell_type": "markdown",
   "id": "0c7b02fc",
   "metadata": {},
   "source": [
    "Write the following logic program\n",
    "\n",
    "* Jack is a sparrow and Tweety is a penguin\n",
    "* If one is a sparrow or a penguin, then it is a bird\n",
    "* If one is a bird but not a penguin, then it flies\n",
    "\n",
    "Display the animals capable of flying. "
   ]
  },
  {
   "cell_type": "code",
   "execution_count": null,
   "id": "eb02caff",
   "metadata": {},
   "outputs": [],
   "source": [
    "%%clingo -V0 0\n"
   ]
  },
  {
   "cell_type": "markdown",
   "id": "8988b313",
   "metadata": {},
   "source": [
    "## Tennis players\n",
    "\n",
    "Write the following logic program\n",
    "\n",
    "- There is a group of 4 friends.\n",
    "- At some time, some of the friends go out, or not.\n",
    "- They can play double tennis when the 4 of them are out\n",
    "\n",
    "Provide 2 solutions, one of which including an aggregate."
   ]
  },
  {
   "cell_type": "code",
   "execution_count": null,
   "id": "01e48219",
   "metadata": {},
   "outputs": [],
   "source": [
    "%%clingo -V0 0\n"
   ]
  },
  {
   "cell_type": "code",
   "execution_count": null,
   "id": "5aa6fcb4",
   "metadata": {},
   "outputs": [],
   "source": [
    "%%clingo -V0 0\n"
   ]
  },
  {
   "cell_type": "markdown",
   "id": "7dc27413",
   "metadata": {},
   "source": [
    "## Cluedo"
   ]
  },
  {
   "cell_type": "markdown",
   "id": "a7206f6d",
   "metadata": {},
   "source": [
    "Write the following logic program\n",
    "\n",
    "- Characters are Miss Scarlett, Mr. Green, Colonel Mustard, Professor Plum, Mrs. Peacock, Mrs. White\n",
    "- Professor Plum, Mrs. Peacock, Mrs. White, and Miss Scarlett are females, the other two are males\n",
    "- Possible weapons are a candlestick, a dagger, a revolver and rope.\n",
    "- Rooms are the kitchen, the library, the ballroom, the hall and the study\n",
    "- There is one murderer who killed the victim with one weapon in one room\n",
    "\n",
    "Clues\n",
    "\n",
    "- If the room is the ballroom, the weapon is the candlestick\n",
    "- If the murderer is Mr. Green, the weapon is the rope\n",
    "- If the murderer is Miss Scarlett, the weapon is either the revolver or the candlestick\n",
    "- If the murderer is a female, the crime did not happen in the kitchen\n",
    "- There is no rope in the ballroom\n",
    "\n",
    "How many stable models if the murderer is Miss Scarlett?\n",
    "How many stable models if the murderer is Mr. Green?"
   ]
  },
  {
   "cell_type": "code",
   "execution_count": null,
   "id": "65738664",
   "metadata": {},
   "outputs": [],
   "source": [
    "%%clingo -V0 0\n",
    "\n",
    "% your encoding goes here...\n",
    "\n",
    "% show\n"
   ]
  },
  {
   "cell_type": "markdown",
   "id": "65128ff9",
   "metadata": {},
   "source": [
    "# Graph problems\n",
    "\n",
    "## Exact hitting set.\n",
    "\n",
    "**The problem**: Given a collection of sets, the exact hitting set problem is to select exactly one element from each set.  \n",
    "\n",
    "**An example:** The sets {a, b, c}, {a, c, d}, and {b, c} have two exact hitting sets: {b, d} and {c}. \n",
    "\n",
    "**Instance format**: We represent such a problem instance by facts as follows."
   ]
  },
  {
   "cell_type": "code",
   "execution_count": null,
   "id": "3fc529be",
   "metadata": {},
   "outputs": [],
   "source": [
    "%%file instances/TP_3_instance_hitting.lp\n",
    "set(1). element(1,a). element(1,b). element(1,c). % {a,b,c}\n",
    "set(2). element(2,a). element(2,c). element(2,d). % {a,c,d}\n",
    "set(3). element(3,b). element(3,c).               % {b,c}"
   ]
  },
  {
   "cell_type": "markdown",
   "id": "451a81e2",
   "metadata": {},
   "source": [
    "**The task**: Specify a uniform problem encoding such that atoms over the predicate ``select/1`` within the stable models correspond to exact hitting sets for arbitrary instances \n",
    "\n",
    "With the example above, two solutions exist: {b,d} or {c}."
   ]
  },
  {
   "cell_type": "code",
   "execution_count": null,
   "id": "286239e7",
   "metadata": {},
   "outputs": [],
   "source": [
    "%%clingo 0 instances/TP_3_instance_hitting.lp -\n",
    "\n",
    "% your encoding goes here...\n",
    "    \n",
    "% show\n",
    "#show select/1."
   ]
  },
  {
   "cell_type": "markdown",
   "id": "ef52f54a",
   "metadata": {},
   "source": [
    "The symbol ``-`` in the command call tells ``clingo`` to read the instance file _and_ the content of the cell. "
   ]
  },
  {
   "cell_type": "markdown",
   "id": "74b994cb",
   "metadata": {},
   "source": [
    "## Independent set.\n",
    "\n",
    "**The problem**: Given an undirected graph,\n",
    "the independent set problem is to select a subset of vertices such that\n",
    "- no pair of the selected vertices is connected by an edge,\n",
    "- the number of selected vertices by set must be equal or greater than a given threshold.\n",
    "\n",
    "**An example:**\n",
    "The graph $(\\{1,2,3,4,5,6\\},\\{\\{1,2\\},\\{1,3\\},\\{2,4\\},\\{3,5\\},\\{4,5\\},\\{4,6\\}\\})$\n",
    "has three independent sets with at least $3$ vertices: $\\{1,5,6\\}$, $\\{2,5,6\\}$, and $\\{2,3,6\\}$.\n",
    "\n",
    "<img src=\"files/figures/TP4/independent.png\" width=400>\n",
    "\n",
    "**Instance format**: We represent such a problem instance by facts as follows.\n"
   ]
  },
  {
   "cell_type": "code",
   "execution_count": null,
   "id": "e86908fe",
   "metadata": {},
   "outputs": [],
   "source": [
    "%%file instances/TP3_instance_independent.lp\n",
    "vertex(1). vertex(2). vertex(3). vertex(4). vertex(5). vertex(6).\n",
    "edge(1,2). edge(1,3). edge(2,4). edge(3,5). edge(4,5). edge(4,6).\n",
    "threshold(3)."
   ]
  },
  {
   "cell_type": "markdown",
   "id": "46d05e1d",
   "metadata": {},
   "source": [
    "**The task**: Specify a uniform problem encoding such that atoms over the predicate ``select/1`` within the stable models correspond to independent sets for arbitrary instances."
   ]
  },
  {
   "cell_type": "code",
   "execution_count": null,
   "id": "18ea8fda",
   "metadata": {},
   "outputs": [],
   "source": [
    "%%clingo 0 instances/TP3_instance_independent.lp -\n",
    "\n",
    "% your encoding goes here...\n",
    "\n",
    "% show\n",
    "#show select/1."
   ]
  },
  {
   "cell_type": "markdown",
   "id": "1ea7bb0c",
   "metadata": {},
   "source": [
    "**Help**: Thereare 3 solutions to the problem applied to the example above:\n",
    "\n",
    "- Answer 1: select(2) select(3) select(6)\n",
    "- Answer 2: select(2) select(5) select(6)\n",
    "- Answer 3: select(1) select(5) select(6)"
   ]
  },
  {
   "cell_type": "markdown",
   "id": "dbbb0d1c",
   "metadata": {},
   "source": [
    "## Hamiltonian paths"
   ]
  },
  {
   "cell_type": "markdown",
   "id": "cf6651e4",
   "metadata": {},
   "source": [
    "**The problem**: Given an undirected graph,\n",
    "the Hamiltonian path problem aims at finding a path visiting each vertex of the graph once and only once. \n",
    "The Hamiltonian circuit problem adds the following constraint: the path must form a cycle, ie the last visited vertex must be adjacent to the departure node. \n",
    "\n",
    "**An example:**\n",
    "The graph $(\\{1,2,3,4,5,6,7,8\\},\\{\\{1,2\\},\\{1,3\\},\\{1,7\\},\\{2,4\\},\\{2,8\\},\\{3,4\\},\\{3,5\\},\\{4,6\\},\\{5,6\\},\\{5,7\\},\\{6,8\\},\\{7,8\\}\\})$.\n",
    "\n",
    "**Instance format**: We represent such a problem instance by facts as follows."
   ]
  },
  {
   "cell_type": "code",
   "execution_count": null,
   "id": "1aa43b5d",
   "metadata": {},
   "outputs": [],
   "source": [
    "%%file instances/TP3_instance_hamiltonian.lp\n",
    "vertex(1..8).\n",
    "edge(1,2). edge(1,3). edge(1,7). \n",
    "edge(2,4). edge(2,8). \n",
    "edge(3,4). edge(3,5). \n",
    "edge(4,6). \n",
    "edge(5,6). edge(5,7).\n",
    "edge(6,8).\n",
    "edge(7,8)."
   ]
  },
  {
   "cell_type": "markdown",
   "id": "f330a3f9",
   "metadata": {},
   "source": [
    "**The tasks:**\n",
    "- Encode the search for hamiltonian paths between a given starting vertex and an ending vertex\n",
    "- Encode the search for Hamiltonian cycles. "
   ]
  },
  {
   "cell_type": "code",
   "execution_count": null,
   "id": "ee010150",
   "metadata": {},
   "outputs": [],
   "source": [
    "%%clingo -V0 0 instances/TP3_instance_hamiltonian.lp -\n",
    "\n",
    "% your encoding goes here...\n",
    "\n",
    "% show"
   ]
  },
  {
   "cell_type": "code",
   "execution_count": null,
   "id": "aed9430a",
   "metadata": {},
   "outputs": [],
   "source": [
    "%%clingo -V0 0 \n",
    "\n",
    "% your encoding goes here...\n",
    "\n",
    "% show"
   ]
  },
  {
   "cell_type": "markdown",
   "id": "1024eaab",
   "metadata": {},
   "source": [
    "# Latin square.\n",
    "\n",
    "This example comes from the resources of Potassco.\n",
    "\n",
    "**The problem**: \n",
    "Given a quadratic board of size $n$,\n",
    "the latin square problem is to fill each cell of the board with some (natural) number from $1$ to $n$\n",
    "such that no number occurs twice in the same row or column.\n",
    "\n",
    "**An example:**\n",
    "There are twelve Latin squares of size $3$:\n",
    "\n",
    "<table>\n",
    "<tbody>\n",
    "<tr>\n",
    "<td style=\"text-align: center;\"><span class=\"math inline\">\\(1\\)</span></td>\n",
    "<td style=\"text-align: center;\"><span class=\"math inline\">\\(2\\)</span></td>\n",
    "<td style=\"text-align: center;\"><span class=\"math inline\">\\(3\\)</span></td>\n",
    "<td style=\"text-align: center;\"></td>\n",
    "<td style=\"text-align: center;\"><span class=\"math inline\">\\(1\\)</span></td>\n",
    "<td style=\"text-align: center;\"><span class=\"math inline\">\\(2\\)</span></td>\n",
    "<td style=\"text-align: center;\"><span class=\"math inline\">\\(3\\)</span></td>\n",
    "<td style=\"text-align: center;\"></td>\n",
    "<td style=\"text-align: center;\"><span class=\"math inline\">\\(1\\)</span></td>\n",
    "<td style=\"text-align: center;\"><span class=\"math inline\">\\(3\\)</span></td>\n",
    "<td style=\"text-align: center;\"><span class=\"math inline\">\\(2\\)</span></td>\n",
    "<td style=\"text-align: center;\"></td>\n",
    "<td style=\"text-align: center;\"><span class=\"math inline\">\\(1\\)</span></td>\n",
    "<td style=\"text-align: center;\"><span class=\"math inline\">\\(3\\)</span></td>\n",
    "<td style=\"text-align: center;\"><span class=\"math inline\">\\(2\\)</span></td>\n",
    "<td style=\"text-align: center;\"></td>\n",
    "<td style=\"text-align: center;\"><span class=\"math inline\">\\(2\\)</span></td>\n",
    "<td style=\"text-align: center;\"><span class=\"math inline\">\\(1\\)</span></td>\n",
    "<td style=\"text-align: center;\"><span class=\"math inline\">\\(3\\)</span></td>\n",
    "<td style=\"text-align: center;\"></td>\n",
    "<td style=\"text-align: center;\"><span class=\"math inline\">\\(2\\)</span></td>\n",
    "<td style=\"text-align: center;\"><span class=\"math inline\">\\(1\\)</span></td>\n",
    "<td style=\"text-align: center;\"><span class=\"math inline\">\\(3\\)</span></td>\n",
    "</tr>\n",
    "<tr>\n",
    "<td style=\"text-align: center;\"><span class=\"math inline\">\\(2\\)</span></td>\n",
    "<td style=\"text-align: center;\"><span class=\"math inline\">\\(3\\)</span></td>\n",
    "<td style=\"text-align: center;\"><span class=\"math inline\">\\(1\\)</span></td>\n",
    "<td style=\"text-align: center;\"></td>\n",
    "<td style=\"text-align: center;\"><span class=\"math inline\">\\(3\\)</span></td>\n",
    "<td style=\"text-align: center;\"><span class=\"math inline\">\\(1\\)</span></td>\n",
    "<td style=\"text-align: center;\"><span class=\"math inline\">\\(2\\)</span></td>\n",
    "<td style=\"text-align: center;\"></td>\n",
    "<td style=\"text-align: center;\"><span class=\"math inline\">\\(2\\)</span></td>\n",
    "<td style=\"text-align: center;\"><span class=\"math inline\">\\(1\\)</span></td>\n",
    "<td style=\"text-align: center;\"><span class=\"math inline\">\\(3\\)</span></td>\n",
    "<td style=\"text-align: center;\"></td>\n",
    "<td style=\"text-align: center;\"><span class=\"math inline\">\\(3\\)</span></td>\n",
    "<td style=\"text-align: center;\"><span class=\"math inline\">\\(2\\)</span></td>\n",
    "<td style=\"text-align: center;\"><span class=\"math inline\">\\(1\\)</span></td>\n",
    "<td style=\"text-align: center;\"></td>\n",
    "<td style=\"text-align: center;\"><span class=\"math inline\">\\(1\\)</span></td>\n",
    "<td style=\"text-align: center;\"><span class=\"math inline\">\\(3\\)</span></td>\n",
    "<td style=\"text-align: center;\"><span class=\"math inline\">\\(2\\)</span></td>\n",
    "<td style=\"text-align: center;\"></td>\n",
    "<td style=\"text-align: center;\"><span class=\"math inline\">\\(3\\)</span></td>\n",
    "<td style=\"text-align: center;\"><span class=\"math inline\">\\(2\\)</span></td>\n",
    "<td style=\"text-align: center;\"><span class=\"math inline\">\\(1\\)</span></td>\n",
    "</tr>\n",
    "<tr class=\"odd\">\n",
    "<td style=\"text-align: center;\"><span class=\"math inline\">\\(3\\)</span></td>\n",
    "<td style=\"text-align: center;\"><span class=\"math inline\">\\(1\\)</span></td>\n",
    "<td style=\"text-align: center;\"><span class=\"math inline\">\\(2\\)</span></td>\n",
    "<td style=\"text-align: center;\"></td>\n",
    "<td style=\"text-align: center;\"><span class=\"math inline\">\\(2\\)</span></td>\n",
    "<td style=\"text-align: center;\"><span class=\"math inline\">\\(3\\)</span></td>\n",
    "<td style=\"text-align: center;\"><span class=\"math inline\">\\(1\\)</span></td>\n",
    "<td style=\"text-align: center;\"></td>\n",
    "<td style=\"text-align: center;\"><span class=\"math inline\">\\(3\\)</span></td>\n",
    "<td style=\"text-align: center;\"><span class=\"math inline\">\\(2\\)</span></td>\n",
    "<td style=\"text-align: center;\"><span class=\"math inline\">\\(1\\)</span></td>\n",
    "<td style=\"text-align: center;\"></td>\n",
    "<td style=\"text-align: center;\"><span class=\"math inline\">\\(2\\)</span></td>\n",
    "<td style=\"text-align: center;\"><span class=\"math inline\">\\(1\\)</span></td>\n",
    "<td style=\"text-align: center;\"><span class=\"math inline\">\\(3\\)</span></td>\n",
    "<td style=\"text-align: center;\"></td>\n",
    "<td style=\"text-align: center;\"><span class=\"math inline\">\\(3\\)</span></td>\n",
    "<td style=\"text-align: center;\"><span class=\"math inline\">\\(2\\)</span></td>\n",
    "<td style=\"text-align: center;\"><span class=\"math inline\">\\(1\\)</span></td>\n",
    "<td style=\"text-align: center;\"></td>\n",
    "<td style=\"text-align: center;\"><span class=\"math inline\">\\(1\\)</span></td>\n",
    "<td style=\"text-align: center;\"><span class=\"math inline\">\\(3\\)</span></td>\n",
    "<td style=\"text-align: center;\"><span class=\"math inline\">\\(2\\)</span></td>\n",
    "</tr>\n",
    "<tr class=\"even\">\n",
    "<td style=\"text-align: center;\"></td>\n",
    "<td style=\"text-align: center;\"></td>\n",
    "<td style=\"text-align: center;\"></td>\n",
    "<td style=\"text-align: center;\"></td>\n",
    "<td style=\"text-align: center;\"></td>\n",
    "<td style=\"text-align: center;\"></td>\n",
    "<td style=\"text-align: center;\"></td>\n",
    "<td style=\"text-align: center;\"></td>\n",
    "<td style=\"text-align: center;\"></td>\n",
    "<td style=\"text-align: center;\"></td>\n",
    "<td style=\"text-align: center;\"></td>\n",
    "<td style=\"text-align: center;\"></td>\n",
    "<td style=\"text-align: center;\"></td>\n",
    "<td style=\"text-align: center;\"></td>\n",
    "<td style=\"text-align: center;\"></td>\n",
    "<td style=\"text-align: center;\"></td>\n",
    "<td style=\"text-align: center;\"></td>\n",
    "<td style=\"text-align: center;\"></td>\n",
    "<td style=\"text-align: center;\"></td>\n",
    "<td style=\"text-align: center;\"></td>\n",
    "<td style=\"text-align: center;\"></td>\n",
    "<td style=\"text-align: center;\"></td>\n",
    "<td style=\"text-align: center;\"></td>\n",
    "</tr>\n",
    "<tr class=\"odd\">\n",
    "<td style=\"text-align: center;\"><span class=\"math inline\">\\(2\\)</span></td>\n",
    "<td style=\"text-align: center;\"><span class=\"math inline\">\\(3\\)</span></td>\n",
    "<td style=\"text-align: center;\"><span class=\"math inline\">\\(1\\)</span></td>\n",
    "<td style=\"text-align: center;\"></td>\n",
    "<td style=\"text-align: center;\"><span class=\"math inline\">\\(2\\)</span></td>\n",
    "<td style=\"text-align: center;\"><span class=\"math inline\">\\(3\\)</span></td>\n",
    "<td style=\"text-align: center;\"><span class=\"math inline\">\\(1\\)</span></td>\n",
    "<td style=\"text-align: center;\"></td>\n",
    "<td style=\"text-align: center;\"><span class=\"math inline\">\\(3\\)</span></td>\n",
    "<td style=\"text-align: center;\"><span class=\"math inline\">\\(1\\)</span></td>\n",
    "<td style=\"text-align: center;\"><span class=\"math inline\">\\(2\\)</span></td>\n",
    "<td style=\"text-align: center;\"></td>\n",
    "<td style=\"text-align: center;\"><span class=\"math inline\">\\(3\\)</span></td>\n",
    "<td style=\"text-align: center;\"><span class=\"math inline\">\\(1\\)</span></td>\n",
    "<td style=\"text-align: center;\"><span class=\"math inline\">\\(2\\)</span></td>\n",
    "<td style=\"text-align: center;\"></td>\n",
    "<td style=\"text-align: center;\"><span class=\"math inline\">\\(3\\)</span></td>\n",
    "<td style=\"text-align: center;\"><span class=\"math inline\">\\(2\\)</span></td>\n",
    "<td style=\"text-align: center;\"><span class=\"math inline\">\\(1\\)</span></td>\n",
    "<td style=\"text-align: center;\"></td>\n",
    "<td style=\"text-align: center;\"><span class=\"math inline\">\\(3\\)</span></td>\n",
    "<td style=\"text-align: center;\"><span class=\"math inline\">\\(2\\)</span></td>\n",
    "<td style=\"text-align: center;\"><span class=\"math inline\">\\(1\\)</span></td>\n",
    "</tr>\n",
    "<tr class=\"even\">\n",
    "<td style=\"text-align: center;\"><span class=\"math inline\">\\(1\\)</span></td>\n",
    "<td style=\"text-align: center;\"><span class=\"math inline\">\\(2\\)</span></td>\n",
    "<td style=\"text-align: center;\"><span class=\"math inline\">\\(3\\)</span></td>\n",
    "<td style=\"text-align: center;\"></td>\n",
    "<td style=\"text-align: center;\"><span class=\"math inline\">\\(3\\)</span></td>\n",
    "<td style=\"text-align: center;\"><span class=\"math inline\">\\(1\\)</span></td>\n",
    "<td style=\"text-align: center;\"><span class=\"math inline\">\\(2\\)</span></td>\n",
    "<td style=\"text-align: center;\"></td>\n",
    "<td style=\"text-align: center;\"><span class=\"math inline\">\\(1\\)</span></td>\n",
    "<td style=\"text-align: center;\"><span class=\"math inline\">\\(2\\)</span></td>\n",
    "<td style=\"text-align: center;\"><span class=\"math inline\">\\(3\\)</span></td>\n",
    "<td style=\"text-align: center;\"></td>\n",
    "<td style=\"text-align: center;\"><span class=\"math inline\">\\(2\\)</span></td>\n",
    "<td style=\"text-align: center;\"><span class=\"math inline\">\\(3\\)</span></td>\n",
    "<td style=\"text-align: center;\"><span class=\"math inline\">\\(1\\)</span></td>\n",
    "<td style=\"text-align: center;\"></td>\n",
    "<td style=\"text-align: center;\"><span class=\"math inline\">\\(1\\)</span></td>\n",
    "<td style=\"text-align: center;\"><span class=\"math inline\">\\(3\\)</span></td>\n",
    "<td style=\"text-align: center;\"><span class=\"math inline\">\\(2\\)</span></td>\n",
    "<td style=\"text-align: center;\"></td>\n",
    "<td style=\"text-align: center;\"><span class=\"math inline\">\\(2\\)</span></td>\n",
    "<td style=\"text-align: center;\"><span class=\"math inline\">\\(1\\)</span></td>\n",
    "<td style=\"text-align: center;\"><span class=\"math inline\">\\(3\\)</span></td>\n",
    "</tr>\n",
    "<tr class=\"odd\">\n",
    "<td style=\"text-align: center;\"><span class=\"math inline\">\\(3\\)</span></td>\n",
    "<td style=\"text-align: center;\"><span class=\"math inline\">\\(1\\)</span></td>\n",
    "<td style=\"text-align: center;\"><span class=\"math inline\">\\(2\\)</span></td>\n",
    "<td style=\"text-align: center;\"></td>\n",
    "<td style=\"text-align: center;\"><span class=\"math inline\">\\(1\\)</span></td>\n",
    "<td style=\"text-align: center;\"><span class=\"math inline\">\\(2\\)</span></td>\n",
    "<td style=\"text-align: center;\"><span class=\"math inline\">\\(3\\)</span></td>\n",
    "<td style=\"text-align: center;\"></td>\n",
    "<td style=\"text-align: center;\"><span class=\"math inline\">\\(2\\)</span></td>\n",
    "<td style=\"text-align: center;\"><span class=\"math inline\">\\(3\\)</span></td>\n",
    "<td style=\"text-align: center;\"><span class=\"math inline\">\\(1\\)</span></td>\n",
    "<td style=\"text-align: center;\"></td>\n",
    "<td style=\"text-align: center;\"><span class=\"math inline\">\\(1\\)</span></td>\n",
    "<td style=\"text-align: center;\"><span class=\"math inline\">\\(2\\)</span></td>\n",
    "<td style=\"text-align: center;\"><span class=\"math inline\">\\(3\\)</span></td>\n",
    "<td style=\"text-align: center;\"></td>\n",
    "<td style=\"text-align: center;\"><span class=\"math inline\">\\(2\\)</span></td>\n",
    "<td style=\"text-align: center;\"><span class=\"math inline\">\\(1\\)</span></td>\n",
    "<td style=\"text-align: center;\"><span class=\"math inline\">\\(3\\)</span></td>\n",
    "<td style=\"text-align: center;\"></td>\n",
    "<td style=\"text-align: center;\"><span class=\"math inline\">\\(1\\)</span></td>\n",
    "<td style=\"text-align: center;\"><span class=\"math inline\">\\(3\\)</span></td>\n",
    "<td style=\"text-align: center;\"><span class=\"math inline\">\\(2\\)</span></td>\n",
    "</tr>\n",
    "<tr class=\"even\">\n",
    "<td style=\"text-align: center;\"></td>\n",
    "<td style=\"text-align: center;\"></td>\n",
    "<td style=\"text-align: center;\"></td>\n",
    "<td style=\"text-align: center;\"></td>\n",
    "<td style=\"text-align: center;\"></td>\n",
    "<td style=\"text-align: center;\"></td>\n",
    "<td style=\"text-align: center;\"></td>\n",
    "<td style=\"text-align: center;\"></td>\n",
    "<td style=\"text-align: center;\"></td>\n",
    "<td style=\"text-align: center;\"></td>\n",
    "<td style=\"text-align: center;\"></td>\n",
    "<td style=\"text-align: center;\"></td>\n",
    "<td style=\"text-align: center;\"></td>\n",
    "<td style=\"text-align: center;\"></td>\n",
    "<td style=\"text-align: center;\"></td>\n",
    "<td style=\"text-align: center;\"></td>\n",
    "<td style=\"text-align: center;\"></td>\n",
    "<td style=\"text-align: center;\"></td>\n",
    "<td style=\"text-align: center;\"></td>\n",
    "<td style=\"text-align: center;\"></td>\n",
    "<td style=\"text-align: center;\"></td>\n",
    "<td style=\"text-align: center;\"></td>\n",
    "<td style=\"text-align: center;\"></td>\n",
    "</tr>\n",
    "</tbody>\n",
    "</table>\n",
    "\n",
    "**Instance format**: We represent such a problem instance by facts as follows."
   ]
  },
  {
   "cell_type": "code",
   "execution_count": null,
   "id": "bd50f281",
   "metadata": {},
   "outputs": [],
   "source": [
    "%%file instances/TP3_instance_latin.lp\n",
    "size(3)."
   ]
  },
  {
   "cell_type": "markdown",
   "id": "5056bdef",
   "metadata": {},
   "source": [
    "**The task**: Specify a uniform problem encoding such that atoms over the predicate ``latin/3`` within the stable models correspond to latin squares for arbitrary instances"
   ]
  },
  {
   "cell_type": "code",
   "execution_count": null,
   "id": "a043c6c1",
   "metadata": {},
   "outputs": [],
   "source": [
    "%%clingo 0 instances/TP3_instance_latin.lp -\n",
    "\n",
    "% your encoding goes here...\n",
    "\n",
    "% show\n",
    "#show latin/3"
   ]
  },
  {
   "cell_type": "markdown",
   "id": "7d62af56",
   "metadata": {},
   "source": [
    "# Unusual pets\n",
    "\n",
    "This example is inspired by the work of K. Chaudhri from Stanford University.\n",
    "\n",
    "Four individuals own unusual pets.\n",
    "Associate each individual (first name, last name) to their pet (species, name) using the following clues.\n",
    "All individuals have different names, different pets, and pets do not share names.\n",
    "\n",
    "1. Mr. Engels (whose pet is named Sparky), Abner, Mr. Halevy and Mr. Foster all belong to a club for owners of unusual pets.\n",
    "2. The iguana is not owned by either Chuck or Duane.\n",
    "3. Neither the jackal nor the king cobra is owned by Mr. Foster.\n",
    "4. The llama does not belong to Duane (whose pet is named Waggles).\n",
    "5. Abner, who does not own the king cobra, is Mr. Gunter.\n",
    "6. Bruce and Mr. Foster are neighbors. \n",
    "7. Mr. Halevy and Mr. Gunter are afraid of iguanas. \n",
    "8. The llama doesn't get along with Jingle.\n",
    "9. One animal is named Norris."
   ]
  },
  {
   "cell_type": "code",
   "execution_count": null,
   "id": "e7687a9c",
   "metadata": {},
   "outputs": [],
   "source": []
  }
 ],
 "metadata": {
  "kernelspec": {
   "display_name": "Python 3 (ipykernel)",
   "language": "python",
   "name": "python3"
  },
  "language_info": {
   "codemirror_mode": {
    "name": "ipython",
    "version": 3
   },
   "file_extension": ".py",
   "mimetype": "text/x-python",
   "name": "python",
   "nbconvert_exporter": "python",
   "pygments_lexer": "ipython3",
   "version": "3.10.12"
  }
 },
 "nbformat": 4,
 "nbformat_minor": 5
}
