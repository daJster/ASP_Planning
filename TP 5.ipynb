{
 "cells": [
  {
   "cell_type": "markdown",
   "id": "e901acc5",
   "metadata": {},
   "source": [
    "# More modelling"
   ]
  },
  {
   "cell_type": "markdown",
   "id": "0ff8123e",
   "metadata": {},
   "source": [
    "## Queens"
   ]
  },
  {
   "cell_type": "markdown",
   "id": "859901d0",
   "metadata": {},
   "source": [
    "**Game**\n",
    "\n",
    "- Place n queens on an n x n chess board\n",
    "- Queens must not attack each other\n",
    "\n",
    "Example with n = 5\n",
    "<img src=\"figures/TP5/nqueens.png\" width=250>\n",
    "\n",
    "**Rules**\n",
    "\n",
    "- Queens can attack horizontally and vertically \n",
    "- Queens can attack diagonally\n",
    "\n",
    "**Task**\n",
    "Encode the n-queens problem. "
   ]
  },
  {
   "cell_type": "code",
   "execution_count": null,
   "id": "70754b1a",
   "metadata": {},
   "outputs": [],
   "source": [
    "%%clingo -c n=5 -V0 0\n",
    "\n",
    "% generate the grid\n",
    "\n",
    "\n",
    "% generate solutions\n",
    "\n",
    "\n",
    "% one assignment by queen\n",
    "\n",
    "    \n",
    "% forbid horizontal and vertical attacks\n",
    "\n",
    "\n",
    "% forbid diagonal attacks\n",
    "\n",
    "\n",
    "#show queen/2."
   ]
  },
  {
   "cell_type": "markdown",
   "id": "18f8dc7f",
   "metadata": {},
   "source": [
    "## Sudoku"
   ]
  },
  {
   "cell_type": "markdown",
   "id": "6c5543c3",
   "metadata": {},
   "source": [
    "The aim of the Sudoku game is to fill a grid of numbers of size n\\*n while ensuring that:\n",
    "\n",
    "- Each number occurs in a row only once\n",
    "- Each number occurs in a column only once\n",
    "- Each number occurs in a subgrid of size n/2 x n/2 only once\n",
    "\n",
    "Input consists in a partially filled grid. \n",
    "\n",
    "### A 4X4 example\n",
    "\n",
    "<img src=\"files/figures/TP5/sudoku_4x4.png\" width=550>\n",
    "\n",
    "**Note** There is a single solution to this instance of sudoku"
   ]
  },
  {
   "cell_type": "code",
   "execution_count": null,
   "id": "f2edcf14",
   "metadata": {},
   "outputs": [],
   "source": [
    "%%file instances/TP5_sudoku_4x4.lp\n",
    "% initial values of the grid\n",
    "initial(1,1,1).\n",
    "initial(2,2,4).\n",
    "initial(3,4,3).\n",
    "initial(4,1,2). \n",
    "initial(4,4,1)."
   ]
  },
  {
   "cell_type": "code",
   "execution_count": null,
   "id": "b56e81dc",
   "metadata": {},
   "outputs": [],
   "source": [
    "%%clingo -V0 instances/TP5_sudoku_4x4.lp -\n",
    "% we print a single solution to ease computation\n",
    "\n",
    "% your encoding goes here...\n",
    "\n",
    "#show sudoku/3."
   ]
  },
  {
   "cell_type": "markdown",
   "id": "866c9314",
   "metadata": {},
   "source": [
    "### A 9X9 example\n",
    "<img src=\"files/figures/TP5/sudoku.png\" width=550>"
   ]
  },
  {
   "cell_type": "code",
   "execution_count": null,
   "id": "2b188f8c",
   "metadata": {},
   "outputs": [],
   "source": [
    "%%file instances/TP5_sudoku_9x9.lp\n",
    "% initial values of the grid\n",
    "initial(1,1,5). initial(1,2,3). initial(1,5,7).\n",
    "initial(2,1,6). initial(2,4,1). initial(2,5,9). initial(2,6,5).\n",
    "initial(3,2,9). initial(3,3,8). initial(3,8,6).\n",
    "initial(4,1,8). initial(4,5,6). initial(4,9,3).\n",
    "initial(5,1,4). initial(5,4,8). initial(5,6,3). initial(5,9,1).\n",
    "initial(6,1,7). initial(6,5,2). initial(6,9,6).\n",
    "initial(7,2,6). initial(7,7,2). initial(7,8,8).\n",
    "initial(8,4,4). initial(8,5,1). initial(8,6,9). initial(8,9,5).\n",
    "initial(9,5,8). initial(9,8,7). initial(9,9,9)."
   ]
  },
  {
   "cell_type": "code",
   "execution_count": null,
   "id": "2d42d904",
   "metadata": {},
   "outputs": [],
   "source": [
    "%%clingo -V0 instances/TP5_sudoku_9x9.lp -\n",
    "% we print a single solution to ease computation\n",
    "\n",
    "% your encoding goes here...\n",
    "\n",
    "#show sudoku/3.\n"
   ]
  },
  {
   "cell_type": "markdown",
   "id": "22917576",
   "metadata": {},
   "source": [
    "# Problems with optimisation"
   ]
  },
  {
   "cell_type": "markdown",
   "id": "b0103896",
   "metadata": {},
   "source": [
    "## Reviewer "
   ]
  },
  {
   "cell_type": "markdown",
   "id": "c02c6711",
   "metadata": {},
   "source": [
    "**Assign the papers to reviewers such that:**\n",
    "\n",
    "- a reviewer who declared a conflict of interest with a paper cannot be attributed that paper\n",
    "- each paper is reviewed by 2 reviewers\n",
    "- a reviewer cannot have 5 or more papers\n",
    "\n",
    "**Perform the following optimisation:**\n",
    "\n",
    "Maximise the assignment of papers to reviewers who declared them as preferred\n",
    "\n",
    "**Count the number of papers by reviewer**"
   ]
  },
  {
   "cell_type": "code",
   "execution_count": null,
   "id": "c260620b",
   "metadata": {},
   "outputs": [],
   "source": [
    "%%clingo -V0 0\n",
    "% papers\n",
    "paper(p1). paper(p2).  paper(p3). paper(p4). paper(p5). paper(p6). \n",
    "paper(p7). paper(p8).  paper(p9).\n",
    "\n",
    "% reviewers + their preferences\n",
    "reviewer(r1). pref(r1,p1). pref(r1,p2). pref(r1,p9).\n",
    "reviewer(r2). pref(r2,p3). pref(r2,p4). \n",
    "reviewer(r3). pref(r3,p5). pref(r3,p6).\n",
    "reviewer(r4). pref(r4,p7). pref(r4,p8). pref(r4,p2).\n",
    "reviewer(r5). pref(r5,p9). pref(r5,p8). pref(r5,p3).\n",
    "\n",
    "% conflicts of interest\n",
    "coi(r1,p3).\n",
    "coi(r2,p6).\n",
    "coi(r3,p9).\n",
    "\n",
    "% your encoding goes here..."
   ]
  },
  {
   "cell_type": "markdown",
   "id": "5007e789",
   "metadata": {},
   "source": [
    "## Knapsack problem"
   ]
  },
  {
   "cell_type": "markdown",
   "id": "9ec2f63e",
   "metadata": {},
   "source": [
    "The knapsack problem is a famous one: how to maximise the valuable items in a knapsack while keeping its weight under a limit?"
   ]
  },
  {
   "cell_type": "code",
   "execution_count": null,
   "id": "f8496c0b",
   "metadata": {},
   "outputs": [],
   "source": [
    "%%clingo --const maxweight=3500 --opt-mode=optN\n",
    "\n",
    "weight(rope, 1000). value(rope, 8).\n",
    "weight(clothes, 1000). value(clothes, 8).\n",
    "weight(water, 1500). value(water, 20).\n",
    "weight(food, 500). value(food, 10).\n",
    "weight(book, 500). value(book, 4).\n",
    "weight(shoes, 500). value(shoes, 4).\n",
    "weight(lighter, 100). value(lighter, 10).\n",
    "weight(knife, 100). value(knife, 12).\n",
    "\n",
    "% your encoding goes here...\n",
    "\n"
   ]
  },
  {
   "cell_type": "markdown",
   "id": "f12f969b",
   "metadata": {},
   "source": [
    "## Trip planning"
   ]
  },
  {
   "cell_type": "markdown",
   "id": "e9c78702",
   "metadata": {},
   "source": [
    "You want to plan a trip in either: Greece, Chile, Germany, France or Australia.\n",
    "\n",
    "Plane tickets cost:\n",
    "- 500€ for Greece\n",
    "- 1500€ for Chile or Australia\n",
    "- 50€ for France or Germany\n",
    "\n",
    "You are more or less excited by the destination with the following level of enthusiasm:\n",
    "- 5 for Chile and Greece\n",
    "- 3 for Australia (very much afraid of spyders)\n",
    "- 2 for Germany\n",
    "- 1 for France\n",
    "\n",
    "Write a program optimising the choice of trip by\n",
    "1. minimising the price\n",
    "2. maximising the enthusiasm\n",
    "\n",
    "Test the impact of the lexicographic order on the stable models."
   ]
  },
  {
   "cell_type": "code",
   "execution_count": null,
   "id": "e3cd67d9",
   "metadata": {},
   "outputs": [],
   "source": [
    "%%clingo -V0 0\n",
    "\n",
    "\n",
    "#show trip/1."
   ]
  },
  {
   "cell_type": "markdown",
   "id": "8f8f1557",
   "metadata": {},
   "source": [
    "## The Traveling Salesprerson Problem (TSP)"
   ]
  },
  {
   "cell_type": "markdown",
   "id": "21493b3f",
   "metadata": {},
   "source": [
    "**Problem Instance:**\n",
    "\n",
    "A set of cities and distances among them.\n",
    "\n",
    "**Problem Class:**\n",
    "\n",
    "What is the shortest possible route visiting each city once and returning to the city of origin?\n",
    "\n",
    "**Note:**\n",
    "\n",
    "The TSP extends the Hamiltonian cycle problem:\n",
    "Is there a cycle in a graph visiting each node exactly once\n",
    "\n",
    "The TSP is relevant to applications in logistics, planning, chip design, and the core of the vehicle routing problem\n",
    "\n",
    "**Task**\n",
    "Solve the TSP by assuming that if a road exist between city 1 and city 2, a road between city 2 and city 1 exists with the same distance. "
   ]
  },
  {
   "cell_type": "code",
   "execution_count": null,
   "id": "2ab6f60d",
   "metadata": {},
   "outputs": [],
   "source": [
    "%%file instances/TP5_tsp.lp\n",
    "\n",
    "city(bordeaux). \n",
    "city(rennes). \n",
    "city(paris). \n",
    "city(lyon).\n",
    "city(marseille).\n",
    "\n",
    "road(bordeaux,paris,580).\n",
    "road(bordeaux,marseille,650).\n",
    "road(bordeaux,lyon,550).\n",
    "road(bordeaux,rennes,450).\n",
    "\n",
    "road(rennes,paris,350).\n",
    "road(rennes,marseille,1000).\n",
    "road(rennes,lyon,700).\n",
    "\n",
    "road(marseille,lyon,300).\n",
    "road(marseille,paris,750).\n",
    "\n",
    "road(paris,lyon,460).\n",
    "\n",
    "start(bordeaux)."
   ]
  },
  {
   "cell_type": "code",
   "execution_count": null,
   "id": "ae573148",
   "metadata": {},
   "outputs": [],
   "source": [
    "%%clingo instances/TP5_tsp.lp --opt-mode=optN -\n",
    "\n",
    "\n",
    "\n"
   ]
  },
  {
   "cell_type": "code",
   "execution_count": null,
   "id": "94e34a56",
   "metadata": {},
   "outputs": [],
   "source": []
  }
 ],
 "metadata": {
  "kernelspec": {
   "display_name": "Python 3 (ipykernel)",
   "language": "python",
   "name": "python3"
  },
  "language_info": {
   "codemirror_mode": {
    "name": "ipython",
    "version": 3
   },
   "file_extension": ".py",
   "mimetype": "text/x-python",
   "name": "python",
   "nbconvert_exporter": "python",
   "pygments_lexer": "ipython3",
   "version": "3.10.12"
  }
 },
 "nbformat": 4,
 "nbformat_minor": 5
}
