{
 "cells": [
  {
   "cell_type": "markdown",
   "id": "d453c610",
   "metadata": {},
   "source": [
    "# HPC scheduling\n",
    "\n",
    "Parallel computing enables applications to be run faster.\n",
    "Processes of a parallel application can be efficiently distributed on cores in a computing infrastructure. The difficulty of assignments relies in ensuring the processes that need to communicate most to be close in the infrastructure such that delays for data transmission remain low. \n",
    "\n",
    "Let's assume the need for communication between all processes of an application are known (e.g as a matrix). Starting from an application and a computing cluster whose infrastructure is known, we want to assign processes to computing cores while minimizing the cost of communicating (data transfered X \"distance\") between processes. Both notions, data and distances, are simplified for the sake of the exercise. \n",
    "\n",
    "There cannot be more than 2 processes by core. \n",
    "\n",
    "Write a program assigning the 10 processes (\"alpha\" to \"juliet\") of the application to the 7 cores of the cluster while minimizing the cost of transferring data between processes.\n",
    "\n",
    "Amounts of data transferred (rows = originating process, columns = recipient process) and distance between cores are depicted in the tables below.\n",
    "\n",
    "_help_: you can use a python program (embedded in ASP) for calculating costs of transferring data between cores. \n",
    "\n",
    "<img src=\"files/figures/TP6/table_data_transferred_between_processes.png\" width=850>\n",
    "<img src=\"files/figures/TP6/distance_cores.png\" width=550>"
   ]
  },
  {
   "cell_type": "code",
   "execution_count": null,
   "id": "18111f2d",
   "metadata": {},
   "outputs": [],
   "source": []
  }
 ],
 "metadata": {
  "kernelspec": {
   "display_name": "Python 3 (ipykernel)",
   "language": "python",
   "name": "python3"
  },
  "language_info": {
   "codemirror_mode": {
    "name": "ipython",
    "version": 3
   },
   "file_extension": ".py",
   "mimetype": "text/x-python",
   "name": "python",
   "nbconvert_exporter": "python",
   "pygments_lexer": "ipython3",
   "version": "3.10.12"
  }
 },
 "nbformat": 4,
 "nbformat_minor": 5
}
